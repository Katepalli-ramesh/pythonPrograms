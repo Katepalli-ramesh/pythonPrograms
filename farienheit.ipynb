{
 "cells": [
  {
   "cell_type": "code",
   "execution_count": 1,
   "id": "bc1d8877",
   "metadata": {},
   "outputs": [
    {
     "name": "stdout",
     "output_type": "stream",
     "text": [
      "hello world\n"
     ]
    }
   ],
   "source": [
    "print('hello world')"
   ]
  },
  {
   "cell_type": "code",
   "execution_count": 5,
   "id": "8fc01b9a",
   "metadata": {},
   "outputs": [],
   "source": [
    "def farienheit(temp):\n",
    "    return (float(9)/5*temp+32)"
   ]
  },
  {
   "cell_type": "code",
   "execution_count": 6,
   "id": "f1bb6700",
   "metadata": {},
   "outputs": [],
   "source": [
    "def celsius(temp):\n",
    "    return (float(5/9)*(temp-32))"
   ]
  },
  {
   "cell_type": "code",
   "execution_count": 7,
   "id": "dac2fdea",
   "metadata": {},
   "outputs": [],
   "source": [
    "temps = [0,30.5,44,100]"
   ]
  },
  {
   "cell_type": "code",
   "execution_count": 8,
   "id": "ef5d4eb0",
   "metadata": {},
   "outputs": [],
   "source": [
    "cToF = list(map(farienheit,temps))"
   ]
  },
  {
   "cell_type": "code",
   "execution_count": 9,
   "id": "60f03cc7",
   "metadata": {},
   "outputs": [],
   "source": [
    "fToC = list(map(celsius,cToF))"
   ]
  },
  {
   "cell_type": "code",
   "execution_count": 10,
   "id": "9be6c862",
   "metadata": {},
   "outputs": [
    {
     "name": "stdout",
     "output_type": "stream",
     "text": [
      "[32.0, 86.9, 111.2, 212.0] ------ [0.0, 30.500000000000004, 44.0, 100.0]\n"
     ]
    }
   ],
   "source": [
    "print(cToF,\"------\",fToC)"
   ]
  },
  {
   "cell_type": "code",
   "execution_count": null,
   "id": "21d8921b",
   "metadata": {},
   "outputs": [],
   "source": []
  }
 ],
 "metadata": {
  "kernelspec": {
   "display_name": "Python 3 (ipykernel)",
   "language": "python",
   "name": "python3"
  },
  "language_info": {
   "codemirror_mode": {
    "name": "ipython",
    "version": 3
   },
   "file_extension": ".py",
   "mimetype": "text/x-python",
   "name": "python",
   "nbconvert_exporter": "python",
   "pygments_lexer": "ipython3",
   "version": "3.9.7"
  }
 },
 "nbformat": 4,
 "nbformat_minor": 5
}
